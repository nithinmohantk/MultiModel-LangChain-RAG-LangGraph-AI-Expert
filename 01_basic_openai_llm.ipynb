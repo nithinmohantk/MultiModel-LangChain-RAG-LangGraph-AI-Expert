{
 "cells": [
  {
   "cell_type": "code",
   "execution_count": null,
   "id": "54e03332-3cd4-4815-a1b5-f066ceebe4f8",
   "metadata": {},
   "outputs": [
    {
     "name": "stdout",
     "output_type": "stream",
     "text": [
      "Defaulting to user installation because normal site-packages is not writeable\n",
      "Looking in links: /usr/share/pip-wheels\n",
      "Requirement already satisfied: openai in /opt/conda/envs/anaconda-ai-2024.04-py310/lib/python3.10/site-packages (1.17.0)\n",
      "Requirement already satisfied: python-dotenv in /opt/conda/envs/anaconda-ai-2024.04-py310/lib/python3.10/site-packages (1.0.1)\n",
      "Requirement already satisfied: anyio<5,>=3.5.0 in /opt/conda/envs/anaconda-ai-2024.04-py310/lib/python3.10/site-packages (from openai) (4.2.0)\n",
      "Requirement already satisfied: distro<2,>=1.7.0 in /opt/conda/envs/anaconda-ai-2024.04-py310/lib/python3.10/site-packages (from openai) (1.9.0)\n",
      "Requirement already satisfied: httpx<1,>=0.23.0 in /opt/conda/envs/anaconda-ai-2024.04-py310/lib/python3.10/site-packages (from openai) (0.26.0)\n",
      "Requirement already satisfied: pydantic<3,>=1.9.0 in /opt/conda/envs/anaconda-ai-2024.04-py310/lib/python3.10/site-packages (from openai) (2.5.3)\n",
      "Requirement already satisfied: sniffio in /opt/conda/envs/anaconda-ai-2024.04-py310/lib/python3.10/site-packages (from openai) (1.3.0)\n",
      "Requirement already satisfied: tqdm>4 in /opt/conda/envs/anaconda-ai-2024.04-py310/lib/python3.10/site-packages (from openai) (4.65.0)\n",
      "Requirement already satisfied: typing-extensions<5,>=4.7 in /opt/conda/envs/anaconda-ai-2024.04-py310/lib/python3.10/site-packages (from openai) (4.9.0)\n",
      "Requirement already satisfied: idna>=2.8 in /opt/conda/envs/anaconda-ai-2024.04-py310/lib/python3.10/site-packages (from anyio<5,>=3.5.0->openai) (3.4)\n",
      "Requirement already satisfied: exceptiongroup>=1.0.2 in /opt/conda/envs/anaconda-ai-2024.04-py310/lib/python3.10/site-packages (from anyio<5,>=3.5.0->openai) (1.2.0)\n",
      "Requirement already satisfied: certifi in /opt/conda/envs/anaconda-ai-2024.04-py310/lib/python3.10/site-packages (from httpx<1,>=0.23.0->openai) (2024.2.2)\n",
      "Requirement already satisfied: httpcore==1.* in /opt/conda/envs/anaconda-ai-2024.04-py310/lib/python3.10/site-packages (from httpx<1,>=0.23.0->openai) (1.0.2)\n",
      "Requirement already satisfied: h11<0.15,>=0.13 in /opt/conda/envs/anaconda-ai-2024.04-py310/lib/python3.10/site-packages (from httpcore==1.*->httpx<1,>=0.23.0->openai) (0.14.0)\n",
      "Requirement already satisfied: annotated-types>=0.4.0 in /opt/conda/envs/anaconda-ai-2024.04-py310/lib/python3.10/site-packages (from pydantic<3,>=1.9.0->openai) (0.6.0)\n",
      "Requirement already satisfied: pydantic-core==2.14.6 in /opt/conda/envs/anaconda-ai-2024.04-py310/lib/python3.10/site-packages (from pydantic<3,>=1.9.0->openai) (2.14.6)\n",
      "Note: you may need to restart the kernel to use updated packages.\n"
     ]
    }
   ],
   "source": [
    "# Install LangChain and OpenAI integration\n",
    "%pip install -U openai python-dotenv"
   ]
  },
  {
   "cell_type": "code",
   "execution_count": null,
   "id": "6226a65e-43c4-41ea-b64e-2bd287a0698b",
   "metadata": {},
   "outputs": [],
   "source": [
    "import os\n",
    "os.environ[\"OPENAI_API_KEY\"] = \"YOUR_OPENAI_KEY_HERE\""
   ]
  },
  {
   "cell_type": "code",
   "execution_count": 16,
   "id": "c7919350-be0f-4d2a-8599-6db558e1e27d",
   "metadata": {},
   "outputs": [
    {
     "name": "stdout",
     "output_type": "stream",
     "text": [
      "Historical Expert's Response:\n",
      "The primary reason for the Leaning Tower of Pisa's tilt is its unstable foundation, which was a combination of the soft ground on which it was built and poor foundational design. Construction on the tower began in 1173 but was halted several times due to wars and financial difficulties. As a result, the tower's foundation settled unevenly on the soft ground, causing the lean to develop.\n",
      "\n",
      "Over the centuries, various engineering efforts have been made to stabilize the tower and prevent its collapse. Between 1990 and 2001, a major restoration project was undertaken to reduce the lean and ensure the tower's long-term stability. Engineers worked to straighten the tower by removing soil from underneath the raised end, adjusting the angle of the tower slightly to reduce the lean. This effort was successful, reducing the lean by about 18 inches and ensuring the tower's stability for at least another 200 years.\n",
      "\n",
      "Other measures taken to stabilize the tower include the installation of counterweights on the north side to offset the lean, strengthening the foundation, and monitoring the tower's tilt through ongoing efforts such as ground sensors and computer models. These engineering efforts have not only preserved the historical landmark but also ensured the safety of visitors and the surrounding area.\n"
     ]
    }
   ],
   "source": [
    "from openai import OpenAI\n",
    "import os\n",
    "client = OpenAI(\n",
    "  api_key=os.environ.get(\"OPENAI_API_KEY\"),\n",
    ")\n",
    "\n",
    "prompt_file_path = \"knw_prompt.txt\" # Make sure this path is correct\n",
    "\n",
    "# --- Load System Prompt from File ---\n",
    "try:\n",
    "    with open(prompt_file_path, \"r\", encoding=\"utf-8\") as file:\n",
    "        system_prompt_content = file.read()\n",
    "    print(f\"Successfully loaded system prompt from '{prompt_file_path}'\")\n",
    "except FileNotFoundError:\n",
    "    print(f\"Error: The file '{prompt_file_path}' was not found at '{os.path.abspath(prompt_file_path)}'. Please create it or provide the correct path.\")\n",
    "    exit() # Exit if the prompt file isn't found\n",
    "except Exception as e:\n",
    "    print(f\"An error occurred while reading the file: {e}\")\n",
    "    exit()\n",
    "\n",
    "# Define the system message using content from the file\n",
    "system_message = {\n",
    "    \"role\": \"system\",\n",
    "    \"content\": system_prompt_content\n",
    "}\n",
    "\n",
    "# Define the system role for the \"Helpful Historical Expert\"\n",
    "#system_message = {\n",
    "#    \"role\": \"system\",\n",
    "#    \"content\": \"You are a helpful historical expert, specializing in architectural history and ancient engineering. You provide accurate, detailed, and engaging information.\"\n",
    "#}\n",
    "\n",
    "# Define the user's question about the Leaning Tower of Pisa\n",
    "user_question = {\n",
    "    \"role\": \"user\",\n",
    "    \"content\": \"What are the primary historical reasons for the Leaning Tower of Pisa's tilt, and what engineering efforts have been made to stabilize it over the centuries?\"\n",
    "}\n",
    "\n",
    "# Create the chat completion\n",
    "try:\n",
    "    response = client.chat.completions.create(\n",
    "        model=\"gpt-3.5-turbo\",  #\"gpt-4\" # You can also use \"gpt-3.5-turbo\" for a faster, cheaper option\n",
    "        messages=[\n",
    "            system_message,\n",
    "            user_question\n",
    "        ]\n",
    "    )\n",
    "\n",
    "    # Access and print the model's response\n",
    "    if response.choices:\n",
    "        for choice in response.choices:\n",
    "            print(f\"Historical Expert's Response:\\n{choice.message.content}\")\n",
    "    else:\n",
    "        print(\"No response choices found.\")\n",
    "\n",
    "except Exception as e:\n",
    "    print(f\"An error occurred: {e}\")\n"
   ]
  },
  {
   "cell_type": "code",
   "execution_count": 19,
   "id": "808b4ea1-98e9-433a-ad82-42df54cc5a72",
   "metadata": {},
   "outputs": [
    {
     "name": "stdout",
     "output_type": "stream",
     "text": [
      "\n",
      "--- Asking the historical question (Leaning Tower of Pisa) ---\n",
      "\n",
      "\n",
      "Historical Expert's Response:\n",
      "\n",
      "The primary reason for the Leaning Tower of Pisa's tilt is due to the unstable subsoil on which it was built. The tower's construction began in 1173 on soft ground consisting of clay, fine sand, and shells, which was unable to fully support the weight of the tower. As construction progressed, the tilt became noticeable, leading to interruptions in the construction process in an attempt to correct the lean.\n",
      "\n",
      "Various engineering efforts have been made over the centuries to stabilize the Leaning Tower of Pisa. In the initial construction phase, the tower's upper floors were built with one side taller than the other to try to compensate for the lean. Further attempts were made during later stages of construction, such as adjusting the height of the columns and adding more weight to the higher side to counterbalance the lean.\n",
      "\n",
      "In the late 20th century, the tower's tilt had reached a critical point, prompting extensive restoration and stabilization efforts. In the 1990s, a comprehensive project was undertaken to stabilize the tower and prevent further leaning. This involved removing soil from underneath the foundation on the leaning side and anchoring the tower with steel cables to prevent it from toppling over. Additionally, the soil around the tower was stabilized and compacted to reduce further settlement.\n",
      "\n",
      "Today, the Leaning Tower of Pisa is stabilized, and ongoing monitoring and maintenance efforts ensure its preservation for future generations to enjoy.\n",
      "\n",
      "--- Asking an off-topic question (stock market) to test guardrails ---\n",
      "\n",
      "\n",
      "Historical Expert's Response:\n",
      "\n",
      "I'm here to provide insights into architectural history and engineering. If you have any questions in these areas, feel free to ask!\n"
     ]
    }
   ],
   "source": [
    "# Define the user's question about the Leaning Tower of Pisa\n",
    "user_question_pisa = {\n",
    "    \"role\": \"user\",\n",
    "    \"content\": \"What are the primary historical reasons for the Leaning Tower of Pisa's tilt, and what engineering efforts have been made to stabilize it over the centuries?\"\n",
    "}\n",
    "\n",
    "# Define a user's question that should be declined (out of scope)\n",
    "user_question_off_topic = {\n",
    "    \"role\": \"user\",\n",
    "    \"content\": \"Tell me the best stock to invest in today, July 12, 2025.\"\n",
    "}\n",
    "\n",
    "# --- Make the API Call for the historical question ---\n",
    "print(\"\\n--- Asking the historical question (Leaning Tower of Pisa) ---\\n\\n\")\n",
    "try:\n",
    "    response_pisa = client.chat.completions.create(\n",
    "        model=\"gpt-3.5-turbo\",  #\"gpt-4\"\n",
    "        messages=[\n",
    "            system_message,\n",
    "            user_question_pisa\n",
    "        ]\n",
    "    )\n",
    "\n",
    "    if response_pisa.choices:\n",
    "        for choice in response_pisa.choices:\n",
    "            print(f\"Historical Expert's Response:\\n\\n{choice.message.content}\")\n",
    "    else:\n",
    "        print(\"No response choices found for the historical question.\\n\\n\")\n",
    "\n",
    "except Exception as e:\n",
    "    print(f\"An error occurred during the historical API call: {e}\")\n",
    "\n",
    "\n",
    "# --- Make the API Call for the off-topic question to test guardrails ---\n",
    "print(\"\\n--- Asking an off-topic question (stock market) to test guardrails ---\\n\\n\")\n",
    "try:\n",
    "    response_off_topic = client.chat.completions.create(\n",
    "        model=\"gpt-3.5-turbo\",  #\"gpt-4\"\n",
    "        messages=[\n",
    "            system_message,\n",
    "            user_question_off_topic\n",
    "        ]\n",
    "    )\n",
    "\n",
    "    if response_off_topic.choices:\n",
    "        for choice in response_off_topic.choices:\n",
    "            print(f\"Historical Expert's Response:\\n\\n{choice.message.content}\")\n",
    "    else:\n",
    "        print(\"No response choices found for the off-topic question.\")\n",
    "\n",
    "except Exception as e:\n",
    "    print(f\"An error occurred during the off-topic API call: {e}\")"
   ]
  },
  {
   "cell_type": "code",
   "execution_count": null,
   "id": "03c3485a-3594-4302-b574-7a685050fa43",
   "metadata": {},
   "outputs": [],
   "source": []
  }
 ],
 "metadata": {
  "kernelspec": {
   "display_name": "anaconda-ai-2024.04-py310",
   "language": "python",
   "name": "conda-env-anaconda-ai-2024.04-py310-py"
  },
  "language_info": {
   "codemirror_mode": {
    "name": "ipython",
    "version": 3
   },
   "file_extension": ".py",
   "mimetype": "text/x-python",
   "name": "python",
   "nbconvert_exporter": "python",
   "pygments_lexer": "ipython3",
   "version": "3.10.13"
  }
 },
 "nbformat": 4,
 "nbformat_minor": 5
}
