{
 "cells": [
  {
   "cell_type": "code",
   "execution_count": 4,
   "id": "ecb70d42-7ea2-4589-8a7b-69c30ae05b86",
   "metadata": {},
   "outputs": [
    {
     "name": "stdout",
     "output_type": "stream",
     "text": [
      "Defaulting to user installation because normal site-packages is not writeable\n",
      "Looking in links: /usr/share/pip-wheels\n",
      "Requirement already satisfied: langchain in /home/b7177933-117a-47b6-b9dd-b47a167f2420/.local/lib/python3.10/site-packages (0.3.26)\n",
      "Requirement already satisfied: langchain-openai in /home/b7177933-117a-47b6-b9dd-b47a167f2420/.local/lib/python3.10/site-packages (0.3.27)\n",
      "Requirement already satisfied: langchain-core<1.0.0,>=0.3.66 in /home/b7177933-117a-47b6-b9dd-b47a167f2420/.local/lib/python3.10/site-packages (from langchain) (0.3.68)\n",
      "Requirement already satisfied: langchain-text-splitters<1.0.0,>=0.3.8 in /home/b7177933-117a-47b6-b9dd-b47a167f2420/.local/lib/python3.10/site-packages (from langchain) (0.3.8)\n",
      "Requirement already satisfied: langsmith>=0.1.17 in /home/b7177933-117a-47b6-b9dd-b47a167f2420/.local/lib/python3.10/site-packages (from langchain) (0.4.5)\n",
      "Requirement already satisfied: pydantic<3.0.0,>=2.7.4 in /home/b7177933-117a-47b6-b9dd-b47a167f2420/.local/lib/python3.10/site-packages (from langchain) (2.11.7)\n",
      "Requirement already satisfied: SQLAlchemy<3,>=1.4 in /opt/conda/envs/anaconda-ai-2024.04-py310/lib/python3.10/site-packages (from langchain) (2.0.29)\n",
      "Requirement already satisfied: requests<3,>=2 in /opt/conda/envs/anaconda-ai-2024.04-py310/lib/python3.10/site-packages (from langchain) (2.31.0)\n",
      "Requirement already satisfied: PyYAML>=5.3 in /opt/conda/envs/anaconda-ai-2024.04-py310/lib/python3.10/site-packages (from langchain) (6.0.1)\n",
      "Requirement already satisfied: async-timeout<5.0.0,>=4.0.0 in /opt/conda/envs/anaconda-ai-2024.04-py310/lib/python3.10/site-packages (from langchain) (4.0.3)\n",
      "Requirement already satisfied: openai<2.0.0,>=1.86.0 in /home/b7177933-117a-47b6-b9dd-b47a167f2420/.local/lib/python3.10/site-packages (from langchain-openai) (1.95.1)\n",
      "Requirement already satisfied: tiktoken<1,>=0.7 in /home/b7177933-117a-47b6-b9dd-b47a167f2420/.local/lib/python3.10/site-packages (from langchain-openai) (0.9.0)\n",
      "Requirement already satisfied: tenacity!=8.4.0,<10.0.0,>=8.1.0 in /opt/conda/envs/anaconda-ai-2024.04-py310/lib/python3.10/site-packages (from langchain-core<1.0.0,>=0.3.66->langchain) (8.2.3)\n",
      "Requirement already satisfied: jsonpatch<2.0,>=1.33 in /opt/conda/envs/anaconda-ai-2024.04-py310/lib/python3.10/site-packages (from langchain-core<1.0.0,>=0.3.66->langchain) (1.33)\n",
      "Requirement already satisfied: packaging<25,>=23.2 in /opt/conda/envs/anaconda-ai-2024.04-py310/lib/python3.10/site-packages (from langchain-core<1.0.0,>=0.3.66->langchain) (23.2)\n",
      "Requirement already satisfied: typing-extensions>=4.7 in /home/b7177933-117a-47b6-b9dd-b47a167f2420/.local/lib/python3.10/site-packages (from langchain-core<1.0.0,>=0.3.66->langchain) (4.14.1)\n",
      "Requirement already satisfied: httpx<1,>=0.23.0 in /opt/conda/envs/anaconda-ai-2024.04-py310/lib/python3.10/site-packages (from langsmith>=0.1.17->langchain) (0.26.0)\n",
      "Requirement already satisfied: orjson<4.0.0,>=3.9.14 in /opt/conda/envs/anaconda-ai-2024.04-py310/lib/python3.10/site-packages (from langsmith>=0.1.17->langchain) (3.10.0)\n",
      "Requirement already satisfied: requests-toolbelt<2.0.0,>=1.0.0 in /home/b7177933-117a-47b6-b9dd-b47a167f2420/.local/lib/python3.10/site-packages (from langsmith>=0.1.17->langchain) (1.0.0)\n",
      "Requirement already satisfied: zstandard<0.24.0,>=0.23.0 in /home/b7177933-117a-47b6-b9dd-b47a167f2420/.local/lib/python3.10/site-packages (from langsmith>=0.1.17->langchain) (0.23.0)\n",
      "Requirement already satisfied: anyio<5,>=3.5.0 in /opt/conda/envs/anaconda-ai-2024.04-py310/lib/python3.10/site-packages (from openai<2.0.0,>=1.86.0->langchain-openai) (4.2.0)\n",
      "Requirement already satisfied: distro<2,>=1.7.0 in /opt/conda/envs/anaconda-ai-2024.04-py310/lib/python3.10/site-packages (from openai<2.0.0,>=1.86.0->langchain-openai) (1.9.0)\n",
      "Requirement already satisfied: jiter<1,>=0.4.0 in /home/b7177933-117a-47b6-b9dd-b47a167f2420/.local/lib/python3.10/site-packages (from openai<2.0.0,>=1.86.0->langchain-openai) (0.10.0)\n",
      "Requirement already satisfied: sniffio in /opt/conda/envs/anaconda-ai-2024.04-py310/lib/python3.10/site-packages (from openai<2.0.0,>=1.86.0->langchain-openai) (1.3.0)\n",
      "Requirement already satisfied: tqdm>4 in /opt/conda/envs/anaconda-ai-2024.04-py310/lib/python3.10/site-packages (from openai<2.0.0,>=1.86.0->langchain-openai) (4.65.0)\n",
      "Requirement already satisfied: annotated-types>=0.6.0 in /opt/conda/envs/anaconda-ai-2024.04-py310/lib/python3.10/site-packages (from pydantic<3.0.0,>=2.7.4->langchain) (0.6.0)\n",
      "Requirement already satisfied: pydantic-core==2.33.2 in /home/b7177933-117a-47b6-b9dd-b47a167f2420/.local/lib/python3.10/site-packages (from pydantic<3.0.0,>=2.7.4->langchain) (2.33.2)\n",
      "Requirement already satisfied: typing-inspection>=0.4.0 in /home/b7177933-117a-47b6-b9dd-b47a167f2420/.local/lib/python3.10/site-packages (from pydantic<3.0.0,>=2.7.4->langchain) (0.4.1)\n",
      "Requirement already satisfied: charset-normalizer<4,>=2 in /opt/conda/envs/anaconda-ai-2024.04-py310/lib/python3.10/site-packages (from requests<3,>=2->langchain) (2.0.4)\n",
      "Requirement already satisfied: idna<4,>=2.5 in /opt/conda/envs/anaconda-ai-2024.04-py310/lib/python3.10/site-packages (from requests<3,>=2->langchain) (3.4)\n",
      "Requirement already satisfied: urllib3<3,>=1.21.1 in /opt/conda/envs/anaconda-ai-2024.04-py310/lib/python3.10/site-packages (from requests<3,>=2->langchain) (2.0.7)\n",
      "Requirement already satisfied: certifi>=2017.4.17 in /opt/conda/envs/anaconda-ai-2024.04-py310/lib/python3.10/site-packages (from requests<3,>=2->langchain) (2024.2.2)\n",
      "Requirement already satisfied: greenlet!=0.4.17 in /opt/conda/envs/anaconda-ai-2024.04-py310/lib/python3.10/site-packages (from SQLAlchemy<3,>=1.4->langchain) (3.0.1)\n",
      "Requirement already satisfied: regex>=2022.1.18 in /opt/conda/envs/anaconda-ai-2024.04-py310/lib/python3.10/site-packages (from tiktoken<1,>=0.7->langchain-openai) (2023.10.3)\n",
      "Requirement already satisfied: exceptiongroup>=1.0.2 in /opt/conda/envs/anaconda-ai-2024.04-py310/lib/python3.10/site-packages (from anyio<5,>=3.5.0->openai<2.0.0,>=1.86.0->langchain-openai) (1.2.0)\n",
      "Requirement already satisfied: httpcore==1.* in /opt/conda/envs/anaconda-ai-2024.04-py310/lib/python3.10/site-packages (from httpx<1,>=0.23.0->langsmith>=0.1.17->langchain) (1.0.2)\n",
      "Requirement already satisfied: h11<0.15,>=0.13 in /opt/conda/envs/anaconda-ai-2024.04-py310/lib/python3.10/site-packages (from httpcore==1.*->httpx<1,>=0.23.0->langsmith>=0.1.17->langchain) (0.14.0)\n",
      "Requirement already satisfied: jsonpointer>=1.9 in /opt/conda/envs/anaconda-ai-2024.04-py310/lib/python3.10/site-packages (from jsonpatch<2.0,>=1.33->langchain-core<1.0.0,>=0.3.66->langchain) (2.4)\n",
      "Note: you may need to restart the kernel to use updated packages.\n"
     ]
    }
   ],
   "source": [
    "# Install LangChain and OpenAI integration\n",
    "%pip install -U langchain langchain-openai"
   ]
  },
  {
   "cell_type": "code",
   "execution_count": null,
   "id": "b0dafe83-2363-4c2b-a812-ee248d86b3e1",
   "metadata": {},
   "outputs": [
    {
     "name": "stdout",
     "output_type": "stream",
     "text": [
      "OPENAI_API_KEY is set.\n",
      "LangChain and OpenAI setup complete.\n"
     ]
    }
   ],
   "source": [
    "import os\n",
    "from openai import OpenAI\n",
    "from langchain_openai import ChatOpenAI\n",
    "from langchain_core.prompts import ChatPromptTemplate, SystemMessagePromptTemplate, HumanMessagePromptTemplate\n",
    "from langchain_core.messages import SystemMessage, HumanMessage\n",
    "\n",
    "# --- Set your OpenAI API Key ---\n",
    "# It's highly recommended to set this as an environment variable for security.\n",
    "import os\n",
    "# You can do this in your terminal before starting Jupyter:\n",
    "# export OPENAI_API_KEY='your_api_key_here' #(Linux/macOS)\n",
    "# $env:OPENAI_API_KEY='your_api_key_here' (PowerShell)\n",
    "#\n",
    "# If you must set it directly in the notebook (NOT recommended for production):\n",
    "# os.environ[\"OPENAI_API_KEY\"] = \"YOUR_ACTUAL_OPENAI_API_KEY\"\n",
    "\n",
    "# Verify API key is set\n",
    "if \"OPENAI_API_KEY\" not in os.environ:\n",
    "    print(\"WARNING: OPENAI_API_KEY environment variable not set.\")\n",
    "    print(\"Please set it before proceeding, or uncomment the line above to set it directly (not recommended).\")\n",
    "else:\n",
    "    print(\"OPENAI_API_KEY is set.\")\n",
    "\n",
    "model_name = \"gpt-3.5-turbo\" # \"gpt-4\"\n",
    "\n",
    "# Initialize the ChatOpenAI model\n",
    "# We'll use gpt-4 for better adherence to complex prompts and guardrails.\n",
    "llm = ChatOpenAI(model=\"gpt-4\", temperature=0.7) # Adjust temperature for creativity (0.0 for deterministic)\n",
    "\n",
    "print(\"LangChain and OpenAI setup complete.\")"
   ]
  },
  {
   "cell_type": "code",
   "execution_count": 6,
   "id": "cee89ff7-0d6b-497e-8530-d78eb6d50958",
   "metadata": {},
   "outputs": [
    {
     "name": "stdout",
     "output_type": "stream",
     "text": [
      "Successfully loaded system prompt from 'prompt.txt'\n",
      "System and User messages defined.\n"
     ]
    }
   ],
   "source": [
    "prompt_file_path = \"prompt.txt\"\n",
    "\n",
    "# Load System Prompt from File\n",
    "try:\n",
    "    with open(prompt_file_path, \"r\", encoding=\"utf-8\") as file:\n",
    "        system_prompt_content = file.read()\n",
    "    print(f\"Successfully loaded system prompt from '{prompt_file_path}'\")\n",
    "except FileNotFoundError:\n",
    "    print(f\"Error: The file '{prompt_file_path}' was not found at '{os.path.abspath(prompt_file_path)}'. Please create it or provide the correct path.\")\n",
    "    exit() # Exit if the prompt file isn't found\n",
    "except Exception as e:\n",
    "    print(f\"An error occurred while reading the file: {e}\")\n",
    "    exit()\n",
    "\n",
    "# Create the System Message\n",
    "system_message = SystemMessage(content=system_prompt_content)\n",
    "\n",
    "# Define the user's on-topic question about the Leaning Tower of Pisa\n",
    "user_question_pisa = HumanMessage(\n",
    "    content=\"What are the primary historical reasons for the Leaning Tower of Pisa's tilt, and what engineering efforts have been made to stabilize it over the centuries?\"\n",
    ")\n",
    "\n",
    "# Define a user's off-topic question to test guardrails\n",
    "user_question_off_topic = HumanMessage(\n",
    "    content=\"Tell me the best stock to invest in today, July 12, 2025.\"\n",
    ")\n",
    "\n",
    "print(\"System and User messages defined.\")"
   ]
  },
  {
   "cell_type": "code",
   "execution_count": 7,
   "id": "5e94ae29-127e-4a73-8212-a05fffd6067f",
   "metadata": {},
   "outputs": [
    {
     "name": "stdout",
     "output_type": "stream",
     "text": [
      "\n",
      "--- Test Case 1: Asking an on-topic historical question ---\n",
      "User Question: What are the primary historical reasons for the Leaning Tower of Pisa's tilt, and what engineering efforts have been made to stabilize it over the centuries?\n",
      "\n",
      "Historical Expert's Response:\n",
      "Your question touches on both the historical and engineering aspects of the Leaning Tower of Pisa, a fascinating architectural marvel. \n",
      "\n",
      "Firstly, the primary historical reason for the tower's tilt is the soft, unstable subsoil on which it was built. Pisa is located between the Arno and Serchio rivers, and the city's name actually originates from a Greek word meaning \"marshy land.\" The ground, comprised largely of clay, fine sand, and shells, was not sturdy enough to support the weight of the tower, which led to its characteristic lean.\n",
      "\n",
      "Construction of the tower began in 1173 and was carried out in three stages over a period of 199 years. The tilt began during the tower's construction, caused by the inadequate foundation on the unstable soil. Over time, the lean increased.\n",
      "\n",
      "Various engineering efforts have been made to stabilize the tower throughout history:\n",
      "\n",
      "1. **During Construction:** When builders noticed the tower starting to tilt, they attempted to correct it by building the upper levels with one side taller than the other. This design alteration is why the tower is actually slightly curved, not just tilted.\n",
      "\n",
      "2. **In the 19th Century:** Architect Alessandro Della Gherardesca tried to enhance the tower’s tilt by digging a pathway around the base to make it more visible. Unfortunately, this caused the tower to lean even more.\n",
      "\n",
      "3. **In 1964:** Italy requested aid from the international community to prevent the tower from falling. This led to many unsuccessful attempts to correct the tilt.\n",
      "\n",
      "4. **In 1990:** The tower was closed to the public due to safety concerns, and a major stabilization project was undertaken. The bells were removed to reduce weight, and cables were cinched around the third level and anchored several hundred meters away. Steel weights were also installed on the north side of the tower.\n",
      "\n",
      "5. **From 1993 to 2001:** Soil was carefully removed from underneath the tower, which allowed it to very slowly lean back towards the upright position. This method reduced the tilt by 44 centimeters, bringing the tower back to the leaning angle it had around the year 1838.\n",
      "\n",
      "6. **In 2008:** The tower was declared stable for at least another 300 years. The efforts to save the Leaning Tower of Pisa are considered a success, and it is now safe for tourists to visit again.\n",
      "\n",
      "In summary, the Leaning Tower of Pisa's tilt is a result of historical building decisions and the geological conditions of the area. Efforts to stabilize it have been ongoing for centuries, with modern engineering methods finally achieving significant success. I hope this answers your query, and I'm here to provide more historical or architectural information if you're interested.\n"
     ]
    }
   ],
   "source": [
    "print(\"\\n--- Test Case 1: Asking an on-topic historical question ---\")\n",
    "print(\"User Question:\", user_question_pisa.content)\n",
    "\n",
    "try:\n",
    "    # Invoke the model with the system message and the on-topic user question\n",
    "    response_pisa = llm.invoke([system_message, user_question_pisa])\n",
    "\n",
    "    print(\"\\nHistorical Expert's Response:\")\n",
    "    print(response_pisa.content)\n",
    "\n",
    "except Exception as e:\n",
    "    print(f\"An error occurred during the API call for the historical question: {e}\")"
   ]
  },
  {
   "cell_type": "code",
   "execution_count": 8,
   "id": "f0b5727f-0486-4518-8bd5-ec3280cc9237",
   "metadata": {},
   "outputs": [
    {
     "name": "stdout",
     "output_type": "stream",
     "text": [
      "\n",
      "--- Test Case 2: Asking an off-topic question to test guardrails ---\n",
      "User Question: Tell me the best stock to invest in today, July 12, 2025.\n",
      "\n",
      "Historical Expert's Response:\n",
      "I'm sorry for any misunderstanding, but as a historical expert, my main function is to provide accurate information about historical events, architectural marvels, and engineering feats. I am not equipped to provide financial advice or stock market predictions. I recommend consulting with a financial advisor or a stock market expert for advice on investments. However, if you have any questions about history, architecture, or engineering, feel free to ask!\n"
     ]
    }
   ],
   "source": [
    "print(\"\\n--- Test Case 2: Asking an off-topic question to test guardrails ---\")\n",
    "print(\"User Question:\", user_question_off_topic.content)\n",
    "\n",
    "try:\n",
    "    # Invoke the model with the system message and the off-topic user question\n",
    "    response_off_topic = llm.invoke([system_message, user_question_off_topic])\n",
    "\n",
    "    print(\"\\nHistorical Expert's Response:\")\n",
    "    print(response_off_topic.content)\n",
    "\n",
    "except Exception as e:\n",
    "    print(f\"An error occurred during the API call for the off-topic question: {e}\")\n"
   ]
  },
  {
   "cell_type": "code",
   "execution_count": null,
   "id": "caee2547-9e95-41ae-b9bf-726300efa5b4",
   "metadata": {},
   "outputs": [],
   "source": []
  }
 ],
 "metadata": {
  "kernelspec": {
   "display_name": "anaconda-ai-2024.04-py310",
   "language": "python",
   "name": "conda-env-anaconda-ai-2024.04-py310-py"
  },
  "language_info": {
   "codemirror_mode": {
    "name": "ipython",
    "version": 3
   },
   "file_extension": ".py",
   "mimetype": "text/x-python",
   "name": "python",
   "nbconvert_exporter": "python",
   "pygments_lexer": "ipython3",
   "version": "3.10.13"
  }
 },
 "nbformat": 4,
 "nbformat_minor": 5
}
